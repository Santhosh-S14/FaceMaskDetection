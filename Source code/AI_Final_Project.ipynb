{
  "nbformat": 4,
  "nbformat_minor": 0,
  "metadata": {
    "colab": {
      "name": "AI_Final_Project.ipynb",
      "provenance": [],
      "collapsed_sections": []
    },
    "kernelspec": {
      "name": "python3",
      "display_name": "Python 3"
    },
    "language_info": {
      "name": "python"
    },
    "accelerator": "GPU"
  },
  "cells": [
    {
      "cell_type": "markdown",
      "source": [
        "<h1>Project Assignment Part - I</h1>\n",
        "<h5>COMP 6721 Applied Artificial Intelligence</h5>\n",
        "<ul>\n",
        "<li>40161500 - Parth Ashokkumar Parekh</li>\n",
        "<li>40202625 - Santhosh Santhanam</li>\n",
        "<li>40193868 - Elvin Rejimone</li>\n",
        "</ul>"
      ],
      "metadata": {
        "id": "urYNSzO5PSBJ"
      }
    },
    {
      "cell_type": "code",
      "source": [
        "from google.colab import drive\n",
        "drive.mount('/content/drive')"
      ],
      "metadata": {
        "id": "L7-N_nGTT1wy",
        "colab": {
          "base_uri": "https://localhost:8080/"
        },
        "outputId": "9c2ccfd1-22fb-4758-a01b-228ed3ba5b1f"
      },
      "execution_count": null,
      "outputs": [
        {
          "output_type": "stream",
          "name": "stdout",
          "text": [
            "Drive already mounted at /content/drive; to attempt to forcibly remount, call drive.mount(\"/content/drive\", force_remount=True).\n"
          ]
        }
      ]
    },
    {
      "cell_type": "code",
      "execution_count": null,
      "metadata": {
        "id": "68UKJSuIOS1R"
      },
      "outputs": [],
      "source": [
        "# Import packages\n",
        "\n",
        "import torch\n",
        "import torchvision.transforms as transforms\n",
        "from torchvision.datasets import ImageFolder\n",
        "from sklearn.model_selection import train_test_split\n",
        "from torch.utils.data import Subset\n",
        "from collections import Counter\n",
        "import matplotlib.pyplot as plt\n",
        "import torch.nn as nn\n",
        "from torch.utils.data import DataLoader\n",
        "from PIL import Image\n",
        "import torch.nn.functional as F\n",
        "import torchvision\n",
        "from sklearn.metrics import ConfusionMatrixDisplay, confusion_matrix, classification_report, precision_recall_fscore_support\n",
        "from torchvision import models\n",
        "from torchsummary import summary"
      ]
    },
    {
      "cell_type": "code",
      "source": [
        "config = {\n",
        "    'images_folder': 'drive/MyDrive/train',\n",
        "    'train_batch_size': 64,\n",
        "    'test_batch_size': 64,\n",
        "    'valid_batch_size': 64,\n",
        "    'num_epochs': 20,\n",
        "    'input_size': 1024,\n",
        "    'learning_rate': 0.001\n",
        "}\n",
        "\n",
        "savedModel = False\n",
        "model_path = 'drive/MyDrive/model'"
      ],
      "metadata": {
        "id": "ihE9-I7CibTV"
      },
      "execution_count": null,
      "outputs": []
    },
    {
      "cell_type": "code",
      "source": [
        "def get_images(images_path, test_split=0.20):\n",
        "    transform = transforms.Compose([transforms.ToTensor(), transforms.Resize([32, 32]),\n",
        "                                    transforms.Normalize((6.4307e-02, -6.7064e-05, -2.5857e-03), (0.9544, 0.9539, 0.9665))])\n",
        "    dataset = ImageFolder(images_path, transform=transform)\n",
        "\n",
        "    classLabels = dataset.class_to_idx;\n",
        "    classImages = dict(Counter(dataset.targets))\n",
        "\n",
        "    # print(classImages)\n",
        "    print(\"\\n\")\n",
        "\n",
        "    # Plotting the bar graph of the data\n",
        "    keys = [\"cloth\", \"n95\", \"n95 with valve\", \"surgical\", \"without mask\"]\n",
        "    values = list(classImages.values())\n",
        "    plt.bar(keys, values, color ='blue',width = 0.4)\n",
        "    plt.xlabel(\"Type of classes\")\n",
        "    plt.ylabel(\"Number of images\")\n",
        "    plt.title(\"Number of images in each each mask type\")\n",
        "    plt.show()\n",
        "\n",
        "    # Showing count of each image\n",
        "    print(\"\\n\")\n",
        "    for k in keys:\n",
        "      print(k + \": \" + str(classImages[classLabels[k]]))\n",
        "\n",
        "    train_idx, test_idx = train_test_split(list(range(len(dataset))), test_size=test_split)\n",
        "    train = Subset(dataset, train_idx)\n",
        "    test = Subset(dataset, test_idx)\n",
        "\n",
        "    return train, test"
      ],
      "metadata": {
        "id": "LWdoCLnlP7rP"
      },
      "execution_count": null,
      "outputs": []
    },
    {
      "cell_type": "code",
      "source": [
        "train_data, test_data = get_images(config['images_folder'])"
      ],
      "metadata": {
        "colab": {
          "base_uri": "https://localhost:8080/",
          "height": 469
        },
        "id": "s5jxUHw_QF8w",
        "outputId": "948156f7-fe2e-4522-8b57-7407ecea058b"
      },
      "execution_count": null,
      "outputs": [
        {
          "output_type": "stream",
          "name": "stdout",
          "text": [
            "{0: 608, 1: 375, 2: 501, 3: 525, 4: 510}\n",
            "\n",
            "\n"
          ]
        },
        {
          "output_type": "display_data",
          "data": {
            "text/plain": [
              "<Figure size 432x288 with 1 Axes>"
            ],
            "image/png": "[encoded data removed]"
          },
          "metadata": {
            "needs_background": "light"
          }
        },
        {
          "output_type": "stream",
          "name": "stdout",
          "text": [
            "\n",
            "\n",
            "cloth: 608\n",
            "n95: 375\n",
            "n95 with valve: 501\n",
            "surgical: 525\n",
            "without mask: 510\n"
          ]
        }
      ]
    },
    {
      "cell_type": "code",
      "source": [
        "# Getting train and test loader\n",
        "train_dataloader = DataLoader(train_data, batch_size=config[\"train_batch_size\"], shuffle=True,\n",
        "                                  pin_memory=False)\n",
        "test_dataloader = DataLoader(test_data, batch_size=config[\"test_batch_size\"], shuffle=False,\n",
        "                                 pin_memory=False)"
      ],
      "metadata": {
        "id": "QmSpr7ugi6Ym"
      },
      "execution_count": null,
      "outputs": []
    },
    {
      "cell_type": "code",
      "source": [
        "# CNN model\n",
        "\n",
        "class Model(nn.Module):\n",
        "    def __init__(self):\n",
        "        super(Model, self).__init__()\n",
        "        self.conv_layer = nn.Sequential(\n",
        "            nn.Conv2d(in_channels=3, out_channels=32, kernel_size=3, padding=1),\n",
        "            nn.BatchNorm2d(32),\n",
        "            nn.LeakyReLU(inplace=True),\n",
        "            nn.Conv2d(in_channels=32, out_channels=32, kernel_size=3, padding=1),\n",
        "            nn.BatchNorm2d(32),\n",
        "            nn.LeakyReLU(inplace=True),\n",
        "            nn.MaxPool2d(kernel_size=2, stride=2),\n",
        "            \n",
        "            nn.Conv2d(in_channels=32, out_channels=64, kernel_size=3, padding=1),\n",
        "            nn.BatchNorm2d(64),\n",
        "            nn.LeakyReLU(inplace=True),\n",
        "            nn.Conv2d(in_channels=64, out_channels=64, kernel_size=3, padding=1),\n",
        "            nn.BatchNorm2d(64),\n",
        "            nn.LeakyReLU(inplace=True),\n",
        "            nn.MaxPool2d(kernel_size=2, stride=2),\n",
        "        )\n",
        "        self.fc_layer = nn.Sequential(\n",
        "            nn.Dropout(p=0.1),\n",
        "            nn.Linear(8 * 8 * 64, 1000),\n",
        "            nn.ReLU(inplace=True),\n",
        "            nn.Linear(1000, 512),\n",
        "            nn.ReLU(inplace=True),\n",
        "            nn.Dropout(p=0.1),\n",
        "            nn.Linear(512, 5)\n",
        "        )\n",
        "\n",
        "    def forward(self, x):\n",
        "        # conv layers\n",
        "        x = self.conv_layer(x)\n",
        "        # flatten\n",
        "        x = x.view(x.size(0), -1)\n",
        "        # fc layer\n",
        "        x = self.fc_layer(x)\n",
        "        return x\n"
      ],
      "metadata": {
        "id": "Gxw6gJJZf-mH"
      },
      "execution_count": null,
      "outputs": []
    },
    {
      "cell_type": "code",
      "source": [
        "# Print the device\n",
        "device = 'cuda' if torch.cuda.is_available() else \"cpu\"\n",
        "print(device)"
      ],
      "metadata": {
        "colab": {
          "base_uri": "https://localhost:8080/",
          "height": 200
        },
        "id": "X-JSvcblga2m",
        "outputId": "e104e737-f322-49fc-ffc7-973e46fb7c9c"
      },
      "execution_count": null,
      "outputs": [
        {
          "output_type": "error",
          "ename": "NameError",
          "evalue": "ignored",
          "traceback": [
            "\u001b[0;31m---------------------------------------------------------------------------\u001b[0m",
            "\u001b[0;31mNameError\u001b[0m                                 Traceback (most recent call last)",
            "\u001b[0;32m<ipython-input-2-6d0cc63eed5d>\u001b[0m in \u001b[0;36m<module>\u001b[0;34m()\u001b[0m\n\u001b[1;32m      1\u001b[0m \u001b[0;31m# Print the device\u001b[0m\u001b[0;34m\u001b[0m\u001b[0;34m\u001b[0m\u001b[0;34m\u001b[0m\u001b[0m\n\u001b[0;32m----> 2\u001b[0;31m \u001b[0mdevice\u001b[0m \u001b[0;34m=\u001b[0m \u001b[0;34m'cuda'\u001b[0m \u001b[0;32mif\u001b[0m \u001b[0mtorch\u001b[0m\u001b[0;34m.\u001b[0m\u001b[0mcuda\u001b[0m\u001b[0;34m.\u001b[0m\u001b[0mis_available\u001b[0m\u001b[0;34m(\u001b[0m\u001b[0;34m)\u001b[0m \u001b[0;32melse\u001b[0m \u001b[0;34m\"cpu\"\u001b[0m\u001b[0;34m\u001b[0m\u001b[0;34m\u001b[0m\u001b[0m\n\u001b[0m\u001b[1;32m      3\u001b[0m \u001b[0mprint\u001b[0m\u001b[0;34m(\u001b[0m\u001b[0mdevice\u001b[0m\u001b[0;34m)\u001b[0m\u001b[0;34m\u001b[0m\u001b[0;34m\u001b[0m\u001b[0m\n",
            "\u001b[0;31mNameError\u001b[0m: name 'torch' is not defined"
          ]
        }
      ]
    },
    {
      "cell_type": "code",
      "source": [
        "if savedModel:\n",
        "  model = Model()\n",
        "  model.load_state_dict(torch.load(model_path, torch.device('cpu')))\n",
        "  model.eval()\n",
        "  model.to(device)\n",
        "  summary(model, (3, 32, 32))\n",
        "else:\n",
        "  model = Model()\n",
        "  model = model.to(device)\n",
        "  summary(model, (3, 32, 32))\n",
        "  optimizer = torch.optim.Adam(model.parameters(), lr=config['learning_rate'])\n",
        "  criterion = nn.CrossEntropyLoss()"
      ],
      "metadata": {
        "id": "BS4b5PjfgOWg",
        "colab": {
          "base_uri": "https://localhost:8080/"
        },
        "outputId": "0eb03676-a3d4-467c-9d3e-66ed3cc96e06"
      },
      "execution_count": null,
      "outputs": [
        {
          "output_type": "stream",
          "name": "stdout",
          "text": [
            "----------------------------------------------------------------\n",
            "        Layer (type)               Output Shape         Param #\n",
            "================================================================\n",
            "            Conv2d-1           [-1, 32, 32, 32]             896\n",
            "       BatchNorm2d-2           [-1, 32, 32, 32]              64\n",
            "         LeakyReLU-3           [-1, 32, 32, 32]               0\n",
            "            Conv2d-4           [-1, 32, 32, 32]           9,248\n",
            "       BatchNorm2d-5           [-1, 32, 32, 32]              64\n",
            "         LeakyReLU-6           [-1, 32, 32, 32]               0\n",
            "         MaxPool2d-7           [-1, 32, 16, 16]               0\n",
            "            Conv2d-8           [-1, 64, 16, 16]          18,496\n",
            "       BatchNorm2d-9           [-1, 64, 16, 16]             128\n",
            "        LeakyReLU-10           [-1, 64, 16, 16]               0\n",
            "           Conv2d-11           [-1, 64, 16, 16]          36,928\n",
            "      BatchNorm2d-12           [-1, 64, 16, 16]             128\n",
            "        LeakyReLU-13           [-1, 64, 16, 16]               0\n",
            "        MaxPool2d-14             [-1, 64, 8, 8]               0\n",
            "          Dropout-15                 [-1, 4096]               0\n",
            "           Linear-16                 [-1, 1000]       4,097,000\n",
            "             ReLU-17                 [-1, 1000]               0\n",
            "           Linear-18                  [-1, 512]         512,512\n",
            "             ReLU-19                  [-1, 512]               0\n",
            "          Dropout-20                  [-1, 512]               0\n",
            "           Linear-21                    [-1, 5]           2,565\n",
            "================================================================\n",
            "Total params: 4,678,029\n",
            "Trainable params: 4,678,029\n",
            "Non-trainable params: 0\n",
            "----------------------------------------------------------------\n",
            "Input size (MB): 0.01\n",
            "Forward/backward pass size (MB): 2.40\n",
            "Params size (MB): 17.85\n",
            "Estimated Total Size (MB): 20.26\n",
            "----------------------------------------------------------------\n"
          ]
        }
      ]
    },
    {
      "cell_type": "code",
      "source": [
        "# Model training class\n",
        "\n",
        "class ModelTraining:\n",
        "\n",
        "    def __init__(self, model, device, optimizer, criteria):\n",
        "        self.model = model\n",
        "        self.device = device\n",
        "        self.optimizer = optimizer\n",
        "        self.criteria = criteria\n",
        "\n",
        "    def training(self, train_dataloader, epochs):\n",
        "        total_no_of_steps = len(train_dataloader)\n",
        "        accuracyList = []\n",
        "        trainingLoss = []\n",
        "        for epoch in range(epochs):\n",
        "            self.model.train()\n",
        "            train_total = 0\n",
        "            train_correct = 0\n",
        "            for i, (images, labels) in enumerate(train_dataloader):\n",
        "                images = images.to(self.device)\n",
        "                labels = labels.to(self.device)\n",
        "\n",
        "                outputs = self.model(images)\n",
        "                loss = self.criteria(outputs, labels)\n",
        "\n",
        "                self.optimizer.zero_grad()\n",
        "                loss.backward()\n",
        "                self.optimizer.step()\n",
        "\n",
        "                _, predicted = torch.max(outputs.data, 1)\n",
        "                train_total += labels.shape[0]\n",
        "                train_correct += (predicted == labels).sum().item()\n",
        "            print(\n",
        "                f'Epoch {epoch + 1} / {epochs}, Training loss = {loss.item():.4f}, Training accuracy = {(train_correct / train_total) * 100}')\n",
        "            accuracyList.append((train_correct / train_total) * 100)\n",
        "            trainingLoss.append(loss.item())\n",
        "        return accuracyList, trainingLoss\n",
        "                # f', Validation loss = {validation_loss.item():.4f}, Validation accuracy = {(correct / total) * 100}')\n"
      ],
      "metadata": {
        "id": "QUF0S-IWjTHF"
      },
      "execution_count": null,
      "outputs": []
    },
    {
      "cell_type": "code",
      "source": [
        "# Training the model\n",
        "if not savedModel:\n",
        "  model_trainer = ModelTraining(model=model, device=device, optimizer=optimizer, criteria=criterion)\n",
        "  accuracyList, trainingLossList = model_trainer.training(train_dataloader, epochs=config[\"num_epochs\"])\n",
        "  torch.save(model.state_dict(), model_path)"
      ],
      "metadata": {
        "id": "r3ktPvWoj6LL",
        "colab": {
          "base_uri": "https://localhost:8080/"
        },
        "outputId": "13d5d74f-efb5-41d7-dca7-7ca2d6fb89af"
      },
      "execution_count": null,
      "outputs": [
        {
          "output_type": "stream",
          "name": "stdout",
          "text": [
            "Epoch 1 / 20, Training loss = 1.3034, Training accuracy = 41.836228287841195\n",
            "Epoch 2 / 20, Training loss = 0.9586, Training accuracy = 58.411910669975185\n",
            "Epoch 3 / 20, Training loss = 0.7415, Training accuracy = 63.374689826302735\n",
            "Epoch 4 / 20, Training loss = 0.4798, Training accuracy = 66.94789081885855\n",
            "Epoch 5 / 20, Training loss = 0.9337, Training accuracy = 71.76178660049628\n",
            "Epoch 6 / 20, Training loss = 0.7834, Training accuracy = 75.68238213399503\n",
            "Epoch 7 / 20, Training loss = 0.5526, Training accuracy = 78.31265508684864\n",
            "Epoch 8 / 20, Training loss = 0.7060, Training accuracy = 79.4044665012407\n",
            "Epoch 9 / 20, Training loss = 0.4636, Training accuracy = 82.23325062034739\n",
            "Epoch 10 / 20, Training loss = 0.2889, Training accuracy = 86.6501240694789\n",
            "Epoch 11 / 20, Training loss = 0.4857, Training accuracy = 89.8759305210918\n",
            "Epoch 12 / 20, Training loss = 0.1600, Training accuracy = 91.16625310173697\n",
            "Epoch 13 / 20, Training loss = 0.1225, Training accuracy = 94.68982630272953\n",
            "Epoch 14 / 20, Training loss = 0.1231, Training accuracy = 95.3349875930521\n",
            "Epoch 15 / 20, Training loss = 0.0369, Training accuracy = 95.38461538461539\n",
            "Epoch 16 / 20, Training loss = 0.1126, Training accuracy = 96.47642679900744\n",
            "Epoch 17 / 20, Training loss = 0.1094, Training accuracy = 96.92307692307692\n",
            "Epoch 18 / 20, Training loss = 0.2339, Training accuracy = 96.92307692307692\n",
            "Epoch 19 / 20, Training loss = 0.0244, Training accuracy = 97.3697270471464\n",
            "Epoch 20 / 20, Training loss = 0.0454, Training accuracy = 97.56823821339951\n"
          ]
        }
      ]
    },
    {
      "cell_type": "code",
      "source": [
        "# Plot the graph of training accuracy vs the epoch\n",
        "plt.plot(range(1, config['num_epochs']+1), accuracyList, 'r--')\n",
        "plt.xlabel('Epoch')\n",
        "plt.ylabel('Training accuracy')"
      ],
      "metadata": {
        "colab": {
          "base_uri": "https://localhost:8080/",
          "height": 299
        },
        "id": "1tqfoF9pCT5x",
        "outputId": "92812f9a-fc00-466d-a8d9-da757be8e9f4"
      },
      "execution_count": null,
      "outputs": [
        {
          "output_type": "execute_result",
          "data": {
            "text/plain": [
              "Text(0, 0.5, 'Training accuracy')"
            ]
          },
          "metadata": {},
          "execution_count": 58
        },
        {
          "output_type": "display_data",
          "data": {
            "text/plain": [
              "<Figure size 432x288 with 1 Axes>"
            ],
            "image/png": "[encoded data removed]"
          },
          "metadata": {
            "needs_background": "light"
          }
        }
      ]
    },
    {
      "cell_type": "code",
      "source": [
        "# Plot the graph of training loss vs the epoch\n",
        "plt.plot(range(1, config['num_epochs']+1), trainingLossList, 'b--')\n",
        "plt.xlabel('Epoch')\n",
        "plt.ylabel('Training Loss')"
      ],
      "metadata": {
        "id": "nWalXctaC47Z",
        "colab": {
          "base_uri": "https://localhost:8080/",
          "height": 296
        },
        "outputId": "fead9809-f1fc-4f6d-cc67-a098967b3ece"
      },
      "execution_count": null,
      "outputs": [
        {
          "output_type": "execute_result",
          "data": {
            "text/plain": [
              "Text(0, 0.5, 'Training Loss')"
            ]
          },
          "metadata": {},
          "execution_count": 59
        },
        {
          "output_type": "display_data",
          "data": {
            "text/plain": [
              "<Figure size 432x288 with 1 Axes>"
            ],
            "image/png": "[encoded data removed]"
          },
          "metadata": {
            "needs_background": "light"
          }
        }
      ]
    },
    {
      "cell_type": "code",
      "source": [
        " # Getting the accuracy of the model\n",
        "def getModelAccuracy(model, test_dataloader, device):\n",
        "    model.eval()\n",
        "    total = 0\n",
        "    correct = 0\n",
        "    y_pred = []\n",
        "    y_true = []\n",
        "    precision = dict()\n",
        "    recall = dict()\n",
        "    avg = dict()\n",
        "    with torch.no_grad():\n",
        "        for images, labels in test_dataloader:\n",
        "            images = images.to(device)\n",
        "            labels = labels.to(device)\n",
        "            model_pred_on_test = model(images)\n",
        "            model_pred_on_test = torch.argmax(F.softmax(model_pred_on_test.data), 1)\n",
        "            predicted = model_pred_on_test\n",
        "            total += labels.shape[0]\n",
        "            correct += (predicted == labels).sum().item()\n",
        "            if y_pred == []:\n",
        "              y_true = labels[:]\n",
        "              y_pred = model_pred_on_test[:]\n",
        "            else:\n",
        "              y_true = torch.hstack([y_true, labels])\n",
        "              y_pred = torch.hstack([y_pred, model_pred_on_test])\n",
        "        print('Test Accuracy of the model on the test images: {} %'\n",
        "              .format((correct / total) * 100))\n",
        "        y_pred = y_pred.cpu().detach().numpy()\n",
        "        y_true = y_true.cpu().detach().numpy()\n",
        "        target_names = ['cm', 'n95', 'n95v', 'sm', 'no mask']\n",
        "        labels_names = [0, 1, 2, 3, 4]\n",
        "        print(classification_report(y_true, y_pred, labels=labels_names, target_names=target_names))\n",
        "        cm = confusion_matrix(y_true, y_pred, labels=labels_names)\n",
        "        disp = ConfusionMatrixDisplay(confusion_matrix=cm, display_labels=target_names)\n",
        "        disp = disp.plot(cmap=plt.cm.Blues, values_format='g')\n",
        "        plt.show()\n"
      ],
      "metadata": {
        "id": "VKJzggf6kO6D"
      },
      "execution_count": null,
      "outputs": []
    },
    {
      "cell_type": "code",
      "source": [
        "getModelAccuracy(model, test_dataloader, device)"
      ],
      "metadata": {
        "colab": {
          "base_uri": "https://localhost:8080/",
          "height": 539
        },
        "id": "W6_u10QIoMUs",
        "outputId": "d8ea2fc4-4293-461b-9dd1-c7fb2caf2e67"
      },
      "execution_count": null,
      "outputs": [
        {
          "output_type": "stream",
          "name": "stderr",
          "text": [
            "/usr/local/lib/python3.7/dist-packages/ipykernel_launcher.py:16: UserWarning: Implicit dimension choice for softmax has been deprecated. Change the call to include dim=X as an argument.\n",
            "  app.launch_new_instance()\n"
          ]
        },
        {
          "output_type": "stream",
          "name": "stdout",
          "text": [
            "Test Accuracy of the model on the test images: 69.84126984126983 %\n",
            "              precision    recall  f1-score   support\n",
            "\n",
            "          cm       0.72      0.70      0.71       119\n",
            "         n95       0.71      0.51      0.59        86\n",
            "        n95v       0.53      0.71      0.61       103\n",
            "          sm       0.77      0.69      0.73       106\n",
            "     no mask       0.83      0.88      0.85        90\n",
            "\n",
            "    accuracy                           0.70       504\n",
            "   macro avg       0.71      0.70      0.70       504\n",
            "weighted avg       0.71      0.70      0.70       504\n",
            "\n"
          ]
        },
        {
          "output_type": "display_data",
          "data": {
            "text/plain": [
              "<Figure size 432x288 with 2 Axes>"
            ],
            "image/png": "[encoded data removed]"
          },
          "metadata": {
            "needs_background": "light"
          }
        }
      ]
    },
    {
      "cell_type": "code",
      "source": [
        " # Predicting single image\n",
        "\n",
        "def predict_image(model, image, device, labels=['cloth', 'N95', 'N95 with valve', 'Surgical', \"without mask\"]):\n",
        "\n",
        "    model.eval()\n",
        "    with torch.no_grad():\n",
        "        image = image.to(device)\n",
        "        output = model(image.unsqueeze(0))\n",
        "    pred = output.argmax(dim=1).cpu().numpy()\n",
        "    print(pred)\n",
        "    return labels[pred[0]]"
      ],
      "metadata": {
        "id": "632Pa2ekoO1x"
      },
      "execution_count": null,
      "outputs": []
    },
    {
      "cell_type": "code",
      "source": [
        "image = Image.open(\"drive/MyDrive/train/surgical/SM 525.jpg\")\n",
        "transform = transforms.Compose(\n",
        "      [transforms.ToTensor(),\n",
        "        transforms.Resize((32, 32)),\n",
        "        transforms.Normalize(mean=(6.4307e-02, -6.7064e-05, -2.5857e-03), std=(0.9544, 0.9539, 0.9665))]\n",
        "  )\n",
        "image = transform(image)\n",
        "print(predict_image(model, image, device))"
      ],
      "metadata": {
        "colab": {
          "base_uri": "https://localhost:8080/"
        },
        "id": "wMy1S0MyqVRL",
        "outputId": "1fae13d8-3d92-4397-b295-ab001d49c86a"
      },
      "execution_count": null,
      "outputs": [
        {
          "output_type": "stream",
          "name": "stdout",
          "text": [
            "[3]\n",
            "Surgical\n"
          ]
        }
      ]
    }
  ]
}